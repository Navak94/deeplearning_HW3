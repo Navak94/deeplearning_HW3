{
  "cells": [
    {
      "cell_type": "markdown",
      "id": "xefOIOZjLPrp",
      "metadata": {
        "id": "xefOIOZjLPrp"
      },
      "source": [
        "**CS 541 Deep Learning**"
      ]
    },
    {
      "cell_type": "markdown",
      "id": "2ZGS8pouLDPv",
      "metadata": {
        "id": "2ZGS8pouLDPv"
      },
      "source": [
        "Homework 3 Problem 4"
      ]
    },
    {
      "cell_type": "code",
      "execution_count": 2,
      "id": "4mAFg8SmsxoPIXi2fQhzp5Qz",
      "metadata": {
        "colab": {
          "base_uri": "https://localhost:8080/"
        },
        "id": "4mAFg8SmsxoPIXi2fQhzp5Qz",
        "outputId": "51d4d55f-b494-4f41-e906-fd13828ea97b",
        "tags": []
      },
      "outputs": [
        {
          "data": {
            "text/plain": [
              "True"
            ]
          },
          "execution_count": 2,
          "metadata": {},
          "output_type": "execute_result"
        }
      ],
      "source": [
        "import torch\n",
        "import torch.nn as nn\n",
        "import torch.optim as optim\n",
        "from torch.utils.data import DataLoader\n",
        "import torchvision\n",
        "import torchvision.transforms as transforms\n",
        "import matplotlib.pyplot as plt\n",
        "torch.cuda.is_available()"
      ]
    },
    {
      "cell_type": "code",
      "execution_count": null,
      "id": "QQ3MeHvcJTE3",
      "metadata": {
        "colab": {
          "base_uri": "https://localhost:8080/"
        },
        "id": "QQ3MeHvcJTE3",
        "outputId": "0d87dd91-24fb-4578-baf0-34175e6d414a"
      },
      "outputs": [
        {
          "name": "stderr",
          "output_type": "stream",
          "text": [
            "100%|██████████| 26.4M/26.4M [00:01<00:00, 21.0MB/s]\n",
            "100%|██████████| 29.5k/29.5k [00:00<00:00, 340kB/s]\n",
            "100%|██████████| 4.42M/4.42M [00:00<00:00, 6.28MB/s]\n",
            "100%|██████████| 5.15k/5.15k [00:00<00:00, 10.4MB/s]"
          ]
        },
        {
          "name": "stdout",
          "output_type": "stream",
          "text": [
            "n/Data ready\n",
            "- train samples: 60000\n",
            "- test samples : 10000\n",
            "- image shape  : torch.Size([1, 28, 28])\n",
            "- train batches: 469\n"
          ]
        },
        {
          "name": "stderr",
          "output_type": "stream",
          "text": [
            "\n"
          ]
        }
      ],
      "source": [
        "#| label: task1\n",
        "\n",
        "# Task 1: Load Fashion-MNIST, convert to tensors in [0,1], make DataLoaders.\n",
        "\n",
        "def prepare_data(batch_size: int = 128):\n",
        "    transform = transforms.ToTensor()  # 28x28 grayscale -> float tensor in [0,1]\n",
        "\n",
        "    train_set = torchvision.datasets.FashionMNIST(\n",
        "        root=\"./\", train=True, download=True, transform=transform\n",
        "    )\n",
        "    test_set = torchvision.datasets.FashionMNIST(\n",
        "        root=\"./\", train=False, download=True, transform=transform\n",
        "    )\n",
        "\n",
        "    train_loader = DataLoader(train_set, batch_size=batch_size, shuffle=True, num_workers=2)\n",
        "    test_loader  = DataLoader(test_set,  batch_size=batch_size, shuffle=False, num_workers=2)\n",
        "\n",
        "    # quick checks\n",
        "    print(\"n/Data ready\")\n",
        "    print(f\"- train samples: {len(train_set)}\")\n",
        "    print(f\"- test samples : {len(test_set)}\")\n",
        "    print(f\"- image shape  : {train_set[0][0].shape}\")  # (1, 28, 28)\n",
        "    print(f\"- train batches: {len(train_loader)}\")\n",
        "    return train_loader, test_loader\n",
        "\n",
        "# run task 1\n",
        "train_loader, test_loader = prepare_data(batch_size=128)\n"
      ]
    },
    {
      "cell_type": "code",
      "execution_count": null,
      "id": "-xgUBXz3JuOF",
      "metadata": {
        "colab": {
          "base_uri": "https://localhost:8080/"
        },
        "id": "-xgUBXz3JuOF",
        "outputId": "e7192fcc-d97a-42f6-8077-5302b13edc8d"
      },
      "outputs": [
        {
          "name": "stdout",
          "output_type": "stream",
          "text": [
            "Model ready\n",
            "- parameters: 218,192\n"
          ]
        }
      ],
      "source": [
        "#| label: task2\n",
        "\n",
        "# Task 2: Dense autoencoder. Encoder: 784->128->64. Decoder: 64->128->784 with Sigmoid.\n",
        "\n",
        "class Autoencoder(nn.Module):\n",
        "    def __init__(self):\n",
        "        super().__init__()\n",
        "        self.encoder = nn.Sequential(\n",
        "            nn.Linear(784, 128), nn.ReLU(),\n",
        "            nn.Linear(128, 64),  nn.ReLU(),\n",
        "        )\n",
        "        self.decoder = nn.Sequential(\n",
        "            nn.Linear(64, 128),  nn.ReLU(),\n",
        "            nn.Linear(128, 784), nn.Sigmoid(),  # keep outputs in [0,1]\n",
        "        )\n",
        "\n",
        "    def forward(self, x: torch.Tensor) -> torch.Tensor:\n",
        "        return self.decoder(self.encoder(x))\n",
        "\n",
        "    def encode(self, x: torch.Tensor) -> torch.Tensor:\n",
        "        return self.encoder(x)\n",
        "\n",
        "# build model and show size\n",
        "model = Autoencoder()\n",
        "params = sum(p.numel() for p in model.parameters())\n",
        "print(\"Model ready\")\n",
        "print(f\"- parameters: {params:,}\")\n"
      ]
    },
    {
      "cell_type": "code",
      "execution_count": null,
      "id": "157rbtUIJ307",
      "metadata": {
        "colab": {
          "base_uri": "https://localhost:8080/"
        },
        "id": "157rbtUIJ307",
        "outputId": "5641af06-7cbb-4079-bea4-5a692c9757a5"
      },
      "outputs": [
        {
          "name": "stdout",
          "output_type": "stream",
          "text": [
            "Training on cuda for 20 epochs\n",
            "  epoch  1 | batch    0/469 | loss 0.1714\n",
            "  epoch  1 | batch  100/469 | loss 0.0410\n",
            "  epoch  1 | batch  200/469 | loss 0.0289\n",
            "  epoch  1 | batch  300/469 | loss 0.0250\n",
            "  epoch  1 | batch  400/469 | loss 0.0228\n",
            "  epoch  1 complete | avg loss 0.0374\n",
            "  epoch  2 | batch    0/469 | loss 0.0212\n",
            "  epoch  2 | batch  100/469 | loss 0.0196\n",
            "  epoch  2 | batch  200/469 | loss 0.0210\n",
            "  epoch  2 | batch  300/469 | loss 0.0218\n",
            "  epoch  2 | batch  400/469 | loss 0.0195\n",
            "  epoch  2 complete | avg loss 0.0198\n",
            "  epoch  3 | batch    0/469 | loss 0.0173\n",
            "  epoch  3 | batch  100/469 | loss 0.0168\n",
            "  epoch  3 | batch  200/469 | loss 0.0161\n",
            "  epoch  3 | batch  300/469 | loss 0.0163\n",
            "  epoch  3 | batch  400/469 | loss 0.0155\n",
            "  epoch  3 complete | avg loss 0.0172\n",
            "  epoch  4 | batch    0/469 | loss 0.0167\n",
            "  epoch  4 | batch  100/469 | loss 0.0159\n",
            "  epoch  4 | batch  200/469 | loss 0.0151\n",
            "  epoch  4 | batch  300/469 | loss 0.0149\n",
            "  epoch  4 | batch  400/469 | loss 0.0153\n",
            "  epoch  4 complete | avg loss 0.0156\n",
            "  epoch  5 | batch    0/469 | loss 0.0158\n",
            "  epoch  5 | batch  100/469 | loss 0.0156\n",
            "  epoch  5 | batch  200/469 | loss 0.0147\n",
            "  epoch  5 | batch  300/469 | loss 0.0141\n",
            "  epoch  5 | batch  400/469 | loss 0.0151\n",
            "  epoch  5 complete | avg loss 0.0145\n",
            "  epoch  6 | batch    0/469 | loss 0.0133\n",
            "  epoch  6 | batch  100/469 | loss 0.0143\n",
            "  epoch  6 | batch  200/469 | loss 0.0126\n",
            "  epoch  6 | batch  300/469 | loss 0.0132\n",
            "  epoch  6 | batch  400/469 | loss 0.0135\n",
            "  epoch  6 complete | avg loss 0.0136\n",
            "  epoch  7 | batch    0/469 | loss 0.0130\n",
            "  epoch  7 | batch  100/469 | loss 0.0145\n",
            "  epoch  7 | batch  200/469 | loss 0.0117\n",
            "  epoch  7 | batch  300/469 | loss 0.0120\n",
            "  epoch  7 | batch  400/469 | loss 0.0115\n",
            "  epoch  7 complete | avg loss 0.0129\n",
            "  epoch  8 | batch    0/469 | loss 0.0125\n",
            "  epoch  8 | batch  100/469 | loss 0.0124\n",
            "  epoch  8 | batch  200/469 | loss 0.0116\n",
            "  epoch  8 | batch  300/469 | loss 0.0124\n",
            "  epoch  8 | batch  400/469 | loss 0.0126\n",
            "  epoch  8 complete | avg loss 0.0124\n",
            "  epoch  9 | batch    0/469 | loss 0.0135\n",
            "  epoch  9 | batch  100/469 | loss 0.0118\n",
            "  epoch  9 | batch  200/469 | loss 0.0108\n",
            "  epoch  9 | batch  300/469 | loss 0.0125\n",
            "  epoch  9 | batch  400/469 | loss 0.0126\n",
            "  epoch  9 complete | avg loss 0.0119\n",
            "  epoch 10 | batch    0/469 | loss 0.0112\n",
            "  epoch 10 | batch  100/469 | loss 0.0115\n",
            "  epoch 10 | batch  200/469 | loss 0.0111\n",
            "  epoch 10 | batch  300/469 | loss 0.0117\n",
            "  epoch 10 | batch  400/469 | loss 0.0115\n",
            "  epoch 10 complete | avg loss 0.0116\n",
            "  epoch 11 | batch    0/469 | loss 0.0104\n",
            "  epoch 11 | batch  100/469 | loss 0.0115\n",
            "  epoch 11 | batch  200/469 | loss 0.0109\n",
            "  epoch 11 | batch  300/469 | loss 0.0115\n",
            "  epoch 11 | batch  400/469 | loss 0.0108\n",
            "  epoch 11 complete | avg loss 0.0112\n",
            "  epoch 12 | batch    0/469 | loss 0.0111\n",
            "  epoch 12 | batch  100/469 | loss 0.0114\n",
            "  epoch 12 | batch  200/469 | loss 0.0109\n",
            "  epoch 12 | batch  300/469 | loss 0.0108\n",
            "  epoch 12 | batch  400/469 | loss 0.0099\n",
            "  epoch 12 complete | avg loss 0.0109\n",
            "  epoch 13 | batch    0/469 | loss 0.0110\n",
            "  epoch 13 | batch  100/469 | loss 0.0109\n",
            "  epoch 13 | batch  200/469 | loss 0.0101\n",
            "  epoch 13 | batch  300/469 | loss 0.0124\n",
            "  epoch 13 | batch  400/469 | loss 0.0093\n",
            "  epoch 13 complete | avg loss 0.0107\n",
            "  epoch 14 | batch    0/469 | loss 0.0113\n",
            "  epoch 14 | batch  100/469 | loss 0.0112\n",
            "  epoch 14 | batch  200/469 | loss 0.0105\n",
            "  epoch 14 | batch  300/469 | loss 0.0104\n",
            "  epoch 14 | batch  400/469 | loss 0.0102\n",
            "  epoch 14 complete | avg loss 0.0105\n",
            "  epoch 15 | batch    0/469 | loss 0.0115\n",
            "  epoch 15 | batch  100/469 | loss 0.0096\n",
            "  epoch 15 | batch  200/469 | loss 0.0098\n",
            "  epoch 15 | batch  300/469 | loss 0.0101\n",
            "  epoch 15 | batch  400/469 | loss 0.0123\n",
            "  epoch 15 complete | avg loss 0.0103\n",
            "  epoch 16 | batch    0/469 | loss 0.0100\n",
            "  epoch 16 | batch  100/469 | loss 0.0114\n",
            "  epoch 16 | batch  200/469 | loss 0.0111\n",
            "  epoch 16 | batch  300/469 | loss 0.0105\n",
            "  epoch 16 | batch  400/469 | loss 0.0103\n",
            "  epoch 16 complete | avg loss 0.0101\n",
            "  epoch 17 | batch    0/469 | loss 0.0092\n",
            "  epoch 17 | batch  100/469 | loss 0.0106\n",
            "  epoch 17 | batch  200/469 | loss 0.0095\n",
            "  epoch 17 | batch  300/469 | loss 0.0099\n",
            "  epoch 17 | batch  400/469 | loss 0.0101\n",
            "  epoch 17 complete | avg loss 0.0100\n",
            "  epoch 18 | batch    0/469 | loss 0.0099\n",
            "  epoch 18 | batch  100/469 | loss 0.0101\n",
            "  epoch 18 | batch  200/469 | loss 0.0093\n",
            "  epoch 18 | batch  300/469 | loss 0.0105\n",
            "  epoch 18 | batch  400/469 | loss 0.0097\n",
            "  epoch 18 complete | avg loss 0.0098\n",
            "  epoch 19 | batch    0/469 | loss 0.0101\n",
            "  epoch 19 | batch  100/469 | loss 0.0104\n",
            "  epoch 19 | batch  200/469 | loss 0.0094\n",
            "  epoch 19 | batch  300/469 | loss 0.0089\n",
            "  epoch 19 | batch  400/469 | loss 0.0085\n",
            "  epoch 19 complete | avg loss 0.0097\n",
            "  epoch 20 | batch    0/469 | loss 0.0097\n",
            "  epoch 20 | batch  100/469 | loss 0.0088\n",
            "  epoch 20 | batch  200/469 | loss 0.0108\n",
            "  epoch 20 | batch  300/469 | loss 0.0094\n",
            "  epoch 20 | batch  400/469 | loss 0.0093\n",
            "  epoch 20 complete | avg loss 0.0095\n"
          ]
        }
      ],
      "source": [
        "#| label: task3\n",
        "\n",
        "# Task 3: Train for 20 epochs with MSE loss and Adam.\n",
        "\n",
        "def train_autoencoder(model: nn.Module, loader: DataLoader, epochs: int = 20, lr: float = 1e-3):\n",
        "    device = torch.device(\"cuda\" if torch.cuda.is_available() else \"cpu\")\n",
        "    model = model.to(device)\n",
        "    opt = optim.Adam(model.parameters(), lr=lr)\n",
        "    loss_fn = nn.MSELoss()\n",
        "\n",
        "    print(f\"Training on {device} for {epochs} epochs\")\n",
        "    losses = []\n",
        "\n",
        "    for epoch in range(1, epochs + 1):\n",
        "        model.train()\n",
        "        running = 0.0\n",
        "\n",
        "        for i, (imgs, _) in enumerate(loader):\n",
        "            imgs = imgs.to(device).view(imgs.size(0), -1)   # (B, 1, 28, 28) -> (B, 784)\n",
        "\n",
        "            opt.zero_grad()\n",
        "            out = model(imgs)\n",
        "            loss = loss_fn(out, imgs)\n",
        "            loss.backward()\n",
        "            opt.step()\n",
        "\n",
        "            running += loss.item()\n",
        "            if i % 100 == 0:\n",
        "                print(f\"  epoch {epoch:2d} | batch {i:4d}/{len(loader)} | loss {loss.item():.4f}\")\n",
        "\n",
        "        avg = running / len(loader)\n",
        "        losses.append(avg)\n",
        "        print(f\"  epoch {epoch:2d} complete | avg loss {avg:.4f}\")\n",
        "\n",
        "    return model, losses\n",
        "\n",
        "# run task 3\n",
        "model, losses = train_autoencoder(model, train_loader, epochs=20, lr=1e-3)\n"
      ]
    },
    {
      "cell_type": "code",
      "execution_count": null,
      "id": "RV29CexYJ_-5",
      "metadata": {
        "colab": {
          "base_uri": "https://localhost:8080/",
          "height": 414
        },
        "id": "RV29CexYJ_-5",
        "outputId": "df118795-8cce-4905-fb43-21fe2ce071ad"
      },
      "outputs": [
        {
          "data": {
            "image/png": "[encoded data removed]",
            "text/plain": [
              "<Figure size 800x400 with 4 Axes>"
            ]
          },
          "metadata": {},
          "output_type": "display_data"
        }
      ],
      "source": [
        "#| label: task4\n",
        "\n",
        "# Task 4: Eval mode, pass a test batch, show 2 originals (top) and 2 reconstructions (bottom).\n",
        "\n",
        "def visualize_reconstructions(model: nn.Module, test_loader: DataLoader, num_images: int = 2):\n",
        "    model.eval()\n",
        "    device = next(model.parameters()).device\n",
        "\n",
        "    images, _ = next(iter(test_loader))           # one batch is enough\n",
        "    images = images.to(device)\n",
        "    with torch.no_grad():\n",
        "        recon = model(images.view(images.size(0), -1)).view(-1, 1, 28, 28)\n",
        "\n",
        "    images = images.cpu()\n",
        "    recon = recon.cpu()\n",
        "\n",
        "    fig, axes = plt.subplots(2, num_images, figsize=(8, 4))\n",
        "    for i in range(num_images):\n",
        "        axes[0, i].imshow(images[i].squeeze(), cmap=\"gray\"); axes[0, i].set_title(f\"Original {i+1}\"); axes[0, i].axis(\"off\")\n",
        "        axes[1, i].imshow(recon[i].squeeze(),   cmap=\"gray\"); axes[1, i].set_title(f\"Reconstructed {i+1}\"); axes[1, i].axis(\"off\")\n",
        "    fig.suptitle(\"Autoencoder: Test Originals vs Reconstructions\")\n",
        "    plt.tight_layout()\n",
        "    plt.show()\n",
        "\n",
        "# run task 4\n",
        "visualize_reconstructions(model, test_loader, num_images=2)\n"
      ]
    }
  ],
  "metadata": {
    "accelerator": "GPU",
    "colab": {
      "gpuType": "L4",
      "name": "tbarnld (Oct 1, 2025, 5:34:19 AM)",
      "provenance": []
    },
    "kernelspec": {
      "display_name": "Python 3",
      "language": "python",
      "name": "python3"
    },
    "language_info": {
      "name": "python"
    }
  },
  "nbformat": 4,
  "nbformat_minor": 5
}
