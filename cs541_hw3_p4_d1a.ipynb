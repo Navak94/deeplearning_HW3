{
  "cells": [
    {
      "cell_type": "markdown",
      "source": [
        "**CS 541 Deep Learning**"
      ],
      "metadata": {
        "id": "xefOIOZjLPrp"
      },
      "id": "xefOIOZjLPrp"
    },
    {
      "cell_type": "markdown",
      "source": [
        "Homework 3 Problem 4"
      ],
      "metadata": {
        "id": "2ZGS8pouLDPv"
      },
      "id": "2ZGS8pouLDPv"
    },
    {
      "cell_type": "code",
      "id": "4mAFg8SmsxoPIXi2fQhzp5Qz",
      "metadata": {
        "tags": [],
        "id": "4mAFg8SmsxoPIXi2fQhzp5Qz",
        "colab": {
          "base_uri": "https://localhost:8080/"
        },
        "outputId": "4618c965-3567-4579-aaa4-d7e8882c92f6"
      },
      "source": [
        "import torch\n",
        "import torch.nn as nn\n",
        "import torch.optim as optim\n",
        "from torch.utils.data import DataLoader\n",
        "import torchvision\n",
        "import torchvision.transforms as transforms\n",
        "import matplotlib.pyplot as plt\n",
        "torch.cuda.is_available()"
      ],
      "execution_count": 9,
      "outputs": [
        {
          "output_type": "execute_result",
          "data": {
            "text/plain": [
              "True"
            ]
          },
          "metadata": {},
          "execution_count": 9
        }
      ]
    },
    {
      "cell_type": "code",
      "source": [
        "#| label: task1\n",
        "\n",
        "# Task 1\n",
        "\n",
        "def prepare_data(batch_size: int = 128):\n",
        "    transform = transforms.ToTensor()  # 28x28 grayscale -> float tensor in [0,1]\n",
        "\n",
        "    train_set = torchvision.datasets.FashionMNIST(\n",
        "        root=\"./\", train=True, download=True, transform=transform\n",
        "    )\n",
        "    test_set = torchvision.datasets.FashionMNIST(\n",
        "        root=\"./\", train=False, download=True, transform=transform\n",
        "    )\n",
        "\n",
        "    train_loader = DataLoader(train_set, batch_size=batch_size, shuffle=True, num_workers=2)\n",
        "    test_loader  = DataLoader(test_set,  batch_size=batch_size, shuffle=False, num_workers=2)\n",
        "\n",
        "    # quick checks\n",
        "    print(\"\\nData:\")\n",
        "    print(f\"- train samples: {len(train_set)}\")\n",
        "    print(f\"- test samples : {len(test_set)}\")\n",
        "    print(f\"- image shape  : {train_set[0][0].shape}\")  # (1, 28, 28)\n",
        "    print(f\"- train batches: {len(train_loader)}\")\n",
        "    return train_loader, test_loader\n",
        "\n",
        "# run task 1\n",
        "train_loader, test_loader = prepare_data(batch_size=128)\n"
      ],
      "metadata": {
        "colab": {
          "base_uri": "https://localhost:8080/"
        },
        "id": "QQ3MeHvcJTE3",
        "outputId": "bb2c6860-3b32-4236-f7f6-bb9cb2a16fef"
      },
      "id": "QQ3MeHvcJTE3",
      "execution_count": 10,
      "outputs": [
        {
          "output_type": "stream",
          "name": "stdout",
          "text": [
            "\n",
            "Data:\n",
            "- train samples: 60000\n",
            "- test samples : 10000\n",
            "- image shape  : torch.Size([1, 28, 28])\n",
            "- train batches: 469\n"
          ]
        }
      ]
    },
    {
      "cell_type": "code",
      "source": [
        "#| label: task2\n",
        "\n",
        "# Task 2\n",
        "\n",
        "class Autoencoder(nn.Module):\n",
        "    def __init__(self):\n",
        "        super().__init__()\n",
        "        self.encoder = nn.Sequential(\n",
        "            nn.Linear(784, 128), nn.ReLU(),\n",
        "            nn.Linear(128, 64),  nn.ReLU(),\n",
        "        )\n",
        "        self.decoder = nn.Sequential(\n",
        "            nn.Linear(64, 128),  nn.ReLU(),\n",
        "            nn.Linear(128, 784), nn.Sigmoid(),  # keep outputs in [0,1]\n",
        "        )\n",
        "\n",
        "    def forward(self, x: torch.Tensor) -> torch.Tensor:\n",
        "        return self.decoder(self.encoder(x))\n",
        "\n",
        "    def encode(self, x: torch.Tensor) -> torch.Tensor:\n",
        "        return self.encoder(x)\n",
        "\n",
        "# build model and show size\n",
        "model = Autoencoder()\n",
        "params = sum(p.numel() for p in model.parameters())\n",
        "print(\"Model ready\")\n",
        "print(f\"- parameters: {params:,}\")\n"
      ],
      "metadata": {
        "colab": {
          "base_uri": "https://localhost:8080/"
        },
        "id": "-xgUBXz3JuOF",
        "outputId": "5f84a976-0f87-4ea0-da53-2cdc83e24648"
      },
      "id": "-xgUBXz3JuOF",
      "execution_count": 11,
      "outputs": [
        {
          "output_type": "stream",
          "name": "stdout",
          "text": [
            "Model ready\n",
            "- parameters: 218,192\n"
          ]
        }
      ]
    },
    {
      "cell_type": "code",
      "source": [
        "#| label: task3\n",
        "\n",
        "# Task 3\n",
        "\n",
        "def train_autoencoder(model: nn.Module, loader: DataLoader, epochs: int = 20, lr: float = 1e-3):\n",
        "    device = torch.device(\"cuda\" if torch.cuda.is_available() else \"cpu\")\n",
        "    model = model.to(device)\n",
        "    opt = optim.Adam(model.parameters(), lr=lr)\n",
        "    loss_fn = nn.MSELoss()\n",
        "\n",
        "    print(f\"Training on {device} for {epochs} epochs\")\n",
        "    losses = []\n",
        "\n",
        "    for epoch in range(1, epochs + 1):\n",
        "        model.train()\n",
        "        running = 0.0\n",
        "\n",
        "        for i, (imgs, _) in enumerate(loader):\n",
        "            imgs = imgs.to(device).view(imgs.size(0), -1)   # (B, 1, 28, 28) -> (B, 784)\n",
        "\n",
        "            opt.zero_grad()\n",
        "            out = model(imgs)\n",
        "            loss = loss_fn(out, imgs)\n",
        "            loss.backward()\n",
        "            opt.step()\n",
        "\n",
        "            running += loss.item()\n",
        "            if i % 100 == 0:\n",
        "                print(f\"  epoch {epoch:2d} | batch {i:4d}/{len(loader)} | loss {loss.item():.4f}\")\n",
        "\n",
        "        avg = running / len(loader)\n",
        "        losses.append(avg)\n",
        "        print(f\"  epoch {epoch:2d} complete | avg loss {avg:.4f}\")\n",
        "\n",
        "    return model, losses\n",
        "\n",
        "# run task 3\n",
        "model, losses = train_autoencoder(model, train_loader, epochs=20, lr=1e-3)\n"
      ],
      "metadata": {
        "colab": {
          "base_uri": "https://localhost:8080/"
        },
        "id": "157rbtUIJ307",
        "outputId": "69af7ec3-39d8-4a29-bbe4-acd187e4b516"
      },
      "id": "157rbtUIJ307",
      "execution_count": 12,
      "outputs": [
        {
          "output_type": "stream",
          "name": "stdout",
          "text": [
            "Training on cuda for 20 epochs\n",
            "  epoch  1 | batch    0/469 | loss 0.1683\n",
            "  epoch  1 | batch  100/469 | loss 0.0449\n",
            "  epoch  1 | batch  200/469 | loss 0.0267\n",
            "  epoch  1 | batch  300/469 | loss 0.0231\n",
            "  epoch  1 | batch  400/469 | loss 0.0232\n",
            "  epoch  1 complete | avg loss 0.0375\n",
            "  epoch  2 | batch    0/469 | loss 0.0220\n",
            "  epoch  2 | batch  100/469 | loss 0.0206\n",
            "  epoch  2 | batch  200/469 | loss 0.0188\n",
            "  epoch  2 | batch  300/469 | loss 0.0195\n",
            "  epoch  2 | batch  400/469 | loss 0.0180\n",
            "  epoch  2 complete | avg loss 0.0196\n",
            "  epoch  3 | batch    0/469 | loss 0.0184\n",
            "  epoch  3 | batch  100/469 | loss 0.0178\n",
            "  epoch  3 | batch  200/469 | loss 0.0167\n",
            "  epoch  3 | batch  300/469 | loss 0.0169\n",
            "  epoch  3 | batch  400/469 | loss 0.0160\n",
            "  epoch  3 complete | avg loss 0.0169\n",
            "  epoch  4 | batch    0/469 | loss 0.0156\n",
            "  epoch  4 | batch  100/469 | loss 0.0157\n",
            "  epoch  4 | batch  200/469 | loss 0.0143\n",
            "  epoch  4 | batch  300/469 | loss 0.0141\n",
            "  epoch  4 | batch  400/469 | loss 0.0146\n",
            "  epoch  4 complete | avg loss 0.0151\n",
            "  epoch  5 | batch    0/469 | loss 0.0140\n",
            "  epoch  5 | batch  100/469 | loss 0.0139\n",
            "  epoch  5 | batch  200/469 | loss 0.0136\n",
            "  epoch  5 | batch  300/469 | loss 0.0138\n",
            "  epoch  5 | batch  400/469 | loss 0.0134\n",
            "  epoch  5 complete | avg loss 0.0140\n",
            "  epoch  6 | batch    0/469 | loss 0.0136\n",
            "  epoch  6 | batch  100/469 | loss 0.0132\n",
            "  epoch  6 | batch  200/469 | loss 0.0129\n",
            "  epoch  6 | batch  300/469 | loss 0.0132\n",
            "  epoch  6 | batch  400/469 | loss 0.0142\n",
            "  epoch  6 complete | avg loss 0.0133\n",
            "  epoch  7 | batch    0/469 | loss 0.0138\n",
            "  epoch  7 | batch  100/469 | loss 0.0121\n",
            "  epoch  7 | batch  200/469 | loss 0.0117\n",
            "  epoch  7 | batch  300/469 | loss 0.0123\n",
            "  epoch  7 | batch  400/469 | loss 0.0141\n",
            "  epoch  7 complete | avg loss 0.0127\n",
            "  epoch  8 | batch    0/469 | loss 0.0128\n",
            "  epoch  8 | batch  100/469 | loss 0.0120\n",
            "  epoch  8 | batch  200/469 | loss 0.0111\n",
            "  epoch  8 | batch  300/469 | loss 0.0115\n",
            "  epoch  8 | batch  400/469 | loss 0.0118\n",
            "  epoch  8 complete | avg loss 0.0121\n",
            "  epoch  9 | batch    0/469 | loss 0.0130\n",
            "  epoch  9 | batch  100/469 | loss 0.0115\n",
            "  epoch  9 | batch  200/469 | loss 0.0125\n",
            "  epoch  9 | batch  300/469 | loss 0.0117\n",
            "  epoch  9 | batch  400/469 | loss 0.0111\n",
            "  epoch  9 complete | avg loss 0.0117\n",
            "  epoch 10 | batch    0/469 | loss 0.0109\n",
            "  epoch 10 | batch  100/469 | loss 0.0125\n",
            "  epoch 10 | batch  200/469 | loss 0.0115\n",
            "  epoch 10 | batch  300/469 | loss 0.0104\n",
            "  epoch 10 | batch  400/469 | loss 0.0114\n",
            "  epoch 10 complete | avg loss 0.0114\n",
            "  epoch 11 | batch    0/469 | loss 0.0104\n",
            "  epoch 11 | batch  100/469 | loss 0.0113\n",
            "  epoch 11 | batch  200/469 | loss 0.0106\n",
            "  epoch 11 | batch  300/469 | loss 0.0120\n",
            "  epoch 11 | batch  400/469 | loss 0.0100\n",
            "  epoch 11 complete | avg loss 0.0111\n",
            "  epoch 12 | batch    0/469 | loss 0.0115\n",
            "  epoch 12 | batch  100/469 | loss 0.0099\n",
            "  epoch 12 | batch  200/469 | loss 0.0107\n",
            "  epoch 12 | batch  300/469 | loss 0.0101\n",
            "  epoch 12 | batch  400/469 | loss 0.0112\n",
            "  epoch 12 complete | avg loss 0.0108\n",
            "  epoch 13 | batch    0/469 | loss 0.0099\n",
            "  epoch 13 | batch  100/469 | loss 0.0104\n",
            "  epoch 13 | batch  200/469 | loss 0.0103\n",
            "  epoch 13 | batch  300/469 | loss 0.0107\n",
            "  epoch 13 | batch  400/469 | loss 0.0105\n",
            "  epoch 13 complete | avg loss 0.0106\n",
            "  epoch 14 | batch    0/469 | loss 0.0097\n",
            "  epoch 14 | batch  100/469 | loss 0.0105\n",
            "  epoch 14 | batch  200/469 | loss 0.0115\n",
            "  epoch 14 | batch  300/469 | loss 0.0106\n",
            "  epoch 14 | batch  400/469 | loss 0.0103\n",
            "  epoch 14 complete | avg loss 0.0104\n",
            "  epoch 15 | batch    0/469 | loss 0.0101\n",
            "  epoch 15 | batch  100/469 | loss 0.0106\n",
            "  epoch 15 | batch  200/469 | loss 0.0115\n",
            "  epoch 15 | batch  300/469 | loss 0.0099\n",
            "  epoch 15 | batch  400/469 | loss 0.0107\n",
            "  epoch 15 complete | avg loss 0.0102\n",
            "  epoch 16 | batch    0/469 | loss 0.0102\n",
            "  epoch 16 | batch  100/469 | loss 0.0102\n",
            "  epoch 16 | batch  200/469 | loss 0.0104\n",
            "  epoch 16 | batch  300/469 | loss 0.0106\n",
            "  epoch 16 | batch  400/469 | loss 0.0097\n",
            "  epoch 16 complete | avg loss 0.0101\n",
            "  epoch 17 | batch    0/469 | loss 0.0092\n",
            "  epoch 17 | batch  100/469 | loss 0.0108\n",
            "  epoch 17 | batch  200/469 | loss 0.0097\n",
            "  epoch 17 | batch  300/469 | loss 0.0097\n",
            "  epoch 17 | batch  400/469 | loss 0.0099\n",
            "  epoch 17 complete | avg loss 0.0099\n",
            "  epoch 18 | batch    0/469 | loss 0.0102\n",
            "  epoch 18 | batch  100/469 | loss 0.0113\n",
            "  epoch 18 | batch  200/469 | loss 0.0100\n",
            "  epoch 18 | batch  300/469 | loss 0.0104\n",
            "  epoch 18 | batch  400/469 | loss 0.0089\n",
            "  epoch 18 complete | avg loss 0.0098\n",
            "  epoch 19 | batch    0/469 | loss 0.0108\n",
            "  epoch 19 | batch  100/469 | loss 0.0100\n",
            "  epoch 19 | batch  200/469 | loss 0.0099\n",
            "  epoch 19 | batch  300/469 | loss 0.0093\n",
            "  epoch 19 | batch  400/469 | loss 0.0092\n",
            "  epoch 19 complete | avg loss 0.0096\n",
            "  epoch 20 | batch    0/469 | loss 0.0085\n",
            "  epoch 20 | batch  100/469 | loss 0.0095\n",
            "  epoch 20 | batch  200/469 | loss 0.0088\n",
            "  epoch 20 | batch  300/469 | loss 0.0106\n",
            "  epoch 20 | batch  400/469 | loss 0.0097\n",
            "  epoch 20 complete | avg loss 0.0095\n"
          ]
        }
      ]
    },
    {
      "cell_type": "code",
      "source": [
        "#| label: task4\n",
        "#| fig-cap: \"Autoencoder reconstructions on test set: Originals (top) vs Reconstructions (bottom).\"\n",
        "#| fig-pos: 'H'\n",
        "\n",
        "# Task 4\n",
        "\n",
        "def visualize_reconstructions(model: nn.Module, test_loader: DataLoader, num_images: int = 2):\n",
        "    model.eval()\n",
        "    device = next(model.parameters()).device\n",
        "\n",
        "    images, _ = next(iter(test_loader))           # one batch is enough\n",
        "    images = images.to(device)\n",
        "    with torch.no_grad():\n",
        "        recon = model(images.view(images.size(0), -1)).view(-1, 1, 28, 28)\n",
        "\n",
        "    images = images.cpu()\n",
        "    recon = recon.cpu()\n",
        "\n",
        "    fig, axes = plt.subplots(2, num_images, figsize=(8, 4))\n",
        "    for i in range(num_images):\n",
        "        axes[0, i].imshow(images[i].squeeze(), cmap=\"gray\"); axes[0, i].set_title(f\"Original {i+1}\"); axes[0, i].axis(\"off\")\n",
        "        axes[1, i].imshow(recon[i].squeeze(),   cmap=\"gray\"); axes[1, i].set_title(f\"Reconstructed {i+1}\"); axes[1, i].axis(\"off\")\n",
        "    fig.suptitle(\"Autoencoder: Test Originals vs Reconstructions\")\n",
        "    plt.tight_layout()\n",
        "    plt.show()\n",
        "\n",
        "# run task 4\n",
        "visualize_reconstructions(model, test_loader, num_images=2)\n"
      ],
      "metadata": {
        "colab": {
          "base_uri": "https://localhost:8080/",
          "height": 414
        },
        "id": "RV29CexYJ_-5",
        "outputId": "f57d80a7-c0a8-45f0-9881-f3a1ffc8fbb4"
      },
      "id": "RV29CexYJ_-5",
      "execution_count": 13,
      "outputs": [
        {
          "output_type": "display_data",
          "data": {
            "text/plain": [
              "<Figure size 800x400 with 4 Axes>"
            ],
            "image/png": "[encoded data removed]"
          },
          "metadata": {}
        }
      ]
    }
  ],
  "metadata": {
    "kernelspec": {
      "display_name": "Python 3",
      "language": "python",
      "name": "python3"
    },
    "language_info": {
      "codemirror_mode": {
        "name": "ipython",
        "version": 3
      },
      "file_extension": ".py",
      "mimetype": "text/x-python",
      "name": "python",
      "nbconvert_exporter": "python",
      "pygments_lexer": "ipython3",
      "version": "3.10.10"
    },
    "colab": {
      "provenance": [],
      "name": "cs541_hw3_p4_d1a",
      "gpuType": "L4"
    },
    "accelerator": "GPU"
  },
  "nbformat": 4,
  "nbformat_minor": 5
}